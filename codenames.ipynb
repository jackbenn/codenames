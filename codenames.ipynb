{
 "cells": [
  {
   "cell_type": "code",
   "execution_count": 49,
   "metadata": {},
   "outputs": [],
   "source": [
    "from gensim.test.utils import common_texts, get_tmpfile\n",
    "from gensim.models import Word2Vec\n",
    "\n",
    "\n",
    "path = get_tmpfile(\"word2vec.model\")\n",
    "\n",
    "model = Word2Vec(common_texts, size=100, window=5, min_count=1, workers=4)\n",
    "model.save(\"word2vec.model\")\n",
    "\n",
    "import functools"
   ]
  },
  {
   "cell_type": "code",
   "execution_count": 39,
   "metadata": {
    "scrolled": true
   },
   "outputs": [
    {
     "data": {
      "text/plain": [
       "array([ 0.0028844 , -0.00262434,  0.00065629, -0.0002333 ,  0.00012226,\n",
       "       -0.00045939, -0.00300936,  0.00407474,  0.00485142, -0.000545  ,\n",
       "        0.0009978 ,  0.00366157, -0.00180628, -0.00012268, -0.00155644,\n",
       "       -0.00401439, -0.00429594,  0.00078661, -0.00402918, -0.00265011,\n",
       "       -0.00286543,  0.00134388,  0.00127709, -0.00118139, -0.00137023,\n",
       "        0.00164106, -0.00234473, -0.00239394,  0.00018846,  0.00168148,\n",
       "        0.00250047, -0.00374562, -0.00297057,  0.00066213, -0.0044968 ,\n",
       "       -0.00274409,  0.00383127,  0.00451738, -0.00489652, -0.00061822,\n",
       "        0.00429099,  0.00481822,  0.0039279 ,  0.00185618,  0.00302932,\n",
       "        0.00157424, -0.00426581, -0.00410255, -0.0009395 , -0.00159928,\n",
       "       -0.00454043, -0.00197845, -0.0046197 , -0.00275184, -0.00219911,\n",
       "       -0.00429265,  0.00041698,  0.00129573,  0.0004035 ,  0.00270303,\n",
       "        0.00203193,  0.00162834,  0.00240024,  0.00402333, -0.00029578,\n",
       "       -0.00362987,  0.00045767,  0.00118555, -0.00252589,  0.00202676,\n",
       "        0.00279738,  0.00387725, -0.00106104, -0.00430196, -0.00039977,\n",
       "        0.00011946,  0.00023301,  0.00129178, -0.00081   , -0.00179483,\n",
       "        0.00148321, -0.00250361, -0.00152083,  0.00256048,  0.00266837,\n",
       "        0.00121912,  0.00187729,  0.00230425,  0.00320075,  0.00110922,\n",
       "       -0.00125201,  0.00386295, -0.00304632, -0.00035162, -0.00380432,\n",
       "        0.00363016, -0.00084121,  0.00349548, -0.00352923,  0.00037772],\n",
       "      dtype=float32)"
      ]
     },
     "execution_count": 39,
     "metadata": {},
     "output_type": "execute_result"
    }
   ],
   "source": [
    "model.wv['survey']"
   ]
  },
  {
   "cell_type": "code",
   "execution_count": 40,
   "metadata": {},
   "outputs": [
    {
     "data": {
      "text/plain": [
       "[['human', 'interface', 'computer'],\n",
       " ['survey', 'user', 'computer', 'system', 'response', 'time'],\n",
       " ['eps', 'user', 'interface', 'system'],\n",
       " ['system', 'human', 'system', 'eps'],\n",
       " ['user', 'response', 'time'],\n",
       " ['trees'],\n",
       " ['graph', 'trees'],\n",
       " ['graph', 'minors', 'trees'],\n",
       " ['graph', 'minors', 'survey']]"
      ]
     },
     "execution_count": 40,
     "metadata": {},
     "output_type": "execute_result"
    }
   ],
   "source": [
    "common_texts"
   ]
  },
  {
   "cell_type": "code",
   "execution_count": 41,
   "metadata": {},
   "outputs": [],
   "source": [
    "from gensim.test.utils import common_dictionary"
   ]
  },
  {
   "cell_type": "code",
   "execution_count": 42,
   "metadata": {},
   "outputs": [
    {
     "data": {
      "text/plain": [
       "[['human', 'interface', 'computer'],\n",
       " ['survey', 'user', 'computer', 'system', 'response', 'time'],\n",
       " ['eps', 'user', 'interface', 'system'],\n",
       " ['system', 'human', 'system', 'eps'],\n",
       " ['user', 'response', 'time'],\n",
       " ['trees'],\n",
       " ['graph', 'trees'],\n",
       " ['graph', 'minors', 'trees'],\n",
       " ['graph', 'minors', 'survey']]"
      ]
     },
     "execution_count": 42,
     "metadata": {},
     "output_type": "execute_result"
    }
   ],
   "source": [
    "common_texts"
   ]
  },
  {
   "cell_type": "code",
   "execution_count": 46,
   "metadata": {},
   "outputs": [],
   "source": [
    "#model.wv[[\"computer\"]]"
   ]
  },
  {
   "cell_type": "code",
   "execution_count": 55,
   "metadata": {},
   "outputs": [
    {
     "data": {
      "text/plain": [
       "[('system', 0.250275194644928),\n",
       " ('survey', 0.1289544552564621),\n",
       " ('minors', 0.10050411522388458),\n",
       " ('response', 0.06155115365982056),\n",
       " ('interface', 0.06051403656601906),\n",
       " ('computer', 0.048833515495061874),\n",
       " ('trees', 0.028496690094470978),\n",
       " ('user', -0.027053771540522575),\n",
       " ('graph', -0.03752323240041733),\n",
       " ('human', -0.07853627949953079)]"
      ]
     },
     "execution_count": 55,
     "metadata": {},
     "output_type": "execute_result"
    }
   ],
   "source": [
    "model.wv.most_similar(['eps'])"
   ]
  },
  {
   "cell_type": "code",
   "execution_count": 52,
   "metadata": {},
   "outputs": [
    {
     "data": {
      "text/plain": [
       "12"
      ]
     },
     "execution_count": 52,
     "metadata": {},
     "output_type": "execute_result"
    }
   ],
   "source": [
    "len(set(functools.reduce(lambda x, y: x+y, common_texts)))"
   ]
  },
  {
   "cell_type": "code",
   "execution_count": 93,
   "metadata": {},
   "outputs": [],
   "source": [
    "sentences = [[\"dog\", \"say\", \"woof\"], [\"dog\", \"say\", \"arf\"], [\"dog\", \"say\", \"bark\"]]\n",
    "model = Word2Vec(sentences, min_count=1)"
   ]
  },
  {
   "cell_type": "code",
   "execution_count": 94,
   "metadata": {},
   "outputs": [
    {
     "data": {
      "text/plain": [
       "[('woof', 0.1178240031003952),\n",
       " ('arf', 0.03713766485452652),\n",
       " ('dog', -0.049874432384967804),\n",
       " ('say', -0.09896010160446167)]"
      ]
     },
     "execution_count": 94,
     "metadata": {},
     "output_type": "execute_result"
    }
   ],
   "source": [
    "model.wv.most_similar('bark')"
   ]
  },
  {
   "cell_type": "code",
   "execution_count": 107,
   "metadata": {},
   "outputs": [
    {
     "data": {
      "text/plain": [
       "[('woof', 0.1178240031003952),\n",
       " ('arf', 0.03713766485452652),\n",
       " ('dog', -0.049874432384967804),\n",
       " ('say', -0.09896010160446167)]"
      ]
     },
     "execution_count": 107,
     "metadata": {},
     "output_type": "execute_result"
    }
   ],
   "source": [
    "sentences = [[\"dog\", \"woof\", \"dog\"], [\"dog\", \"woof\", \"bark\", \"say\", \"arf\"], [\"dog\", \"say\", \"bark\"]]\n",
    "model = Word2Vec(sentences, min_count=1)\n",
    "model.wv.most_similar('bark')"
   ]
  },
  {
   "cell_type": "code",
   "execution_count": null,
   "metadata": {},
   "outputs": [],
   "source": []
  },
  {
   "cell_type": "code",
   "execution_count": null,
   "metadata": {},
   "outputs": [],
   "source": []
  },
  {
   "cell_type": "code",
   "execution_count": 105,
   "metadata": {},
   "outputs": [],
   "source": [
    ">>> corpus = [[(0, 1.0), (1, 1.0), (2, 1.0)],\n",
    ">>>           [(2, 1.0), (3, 1.0), (4, 1.0), (5, 1.0), (6, 1.0), (8, 1.0)],\n",
    ">>>           [(1, 1.0), (3, 1.0), (4, 1.0), (7, 1.0)],\n",
    ">>>           [(0, 1.0), (4, 2.0), (7, 1.0)],\n",
    ">>>           [(3, 1.0), (5, 1.0), (6, 1.0)],\n",
    ">>>           [(9, 1.0)],\n",
    ">>>           [(9, 1.0), (10, 1.0)],\n",
    ">>>           [(9, 1.0), (10, 1.0), (11, 1.0)],\n",
    ">>>           [(8, 1.0), (10, 1.0), (11, 1.0)]]"
   ]
  },
  {
   "cell_type": "code",
   "execution_count": 108,
   "metadata": {},
   "outputs": [],
   "source": [
    ">>> from gensim import models\n",
    ">>>\n",
    ">>> tfidf = models.TfidfModel(corpus)"
   ]
  },
  {
   "cell_type": "code",
   "execution_count": 109,
   "metadata": {},
   "outputs": [
    {
     "data": {
      "text/plain": [
       "<gensim.models.tfidfmodel.TfidfModel at 0x1a1c8d9b38>"
      ]
     },
     "execution_count": 109,
     "metadata": {},
     "output_type": "execute_result"
    }
   ],
   "source": [
    "tfidf"
   ]
  },
  {
   "cell_type": "code",
   "execution_count": 110,
   "metadata": {},
   "outputs": [
    {
     "name": "stderr",
     "output_type": "stream",
     "text": [
      "2019-03-08 11:39:27,563 : INFO : collecting all words and their counts\n",
      "2019-03-08 11:39:27,575 : INFO : PROGRESS: at sentence #0, processed 0 words, keeping 0 word types\n",
      "2019-03-08 11:39:27,578 : INFO : collected 3 word types from a corpus of 4 raw words and 2 sentences\n",
      "2019-03-08 11:39:27,584 : INFO : Loading a fresh vocabulary\n",
      "2019-03-08 11:39:27,588 : INFO : min_count=1 retains 3 unique words (100% of original 3, drops 0)\n",
      "2019-03-08 11:39:27,589 : INFO : min_count=1 leaves 4 word corpus (100% of original 4, drops 0)\n",
      "2019-03-08 11:39:27,594 : INFO : deleting the raw counts dictionary of 3 items\n",
      "2019-03-08 11:39:27,640 : INFO : sample=0.001 downsamples 3 most-common words\n",
      "2019-03-08 11:39:27,653 : INFO : downsampling leaves estimated 0 word corpus (5.7% of prior 4)\n",
      "2019-03-08 11:39:27,670 : INFO : estimated required memory for 3 words and 100 dimensions: 3900 bytes\n",
      "2019-03-08 11:39:27,677 : INFO : resetting layer weights\n",
      "2019-03-08 11:39:27,699 : INFO : training model with 3 workers on 3 vocabulary and 100 features, using sg=0 hs=0 sample=0.001 negative=5 window=5\n",
      "2019-03-08 11:39:27,716 : INFO : worker thread finished; awaiting finish of 2 more threads\n",
      "2019-03-08 11:39:27,717 : INFO : worker thread finished; awaiting finish of 1 more threads\n",
      "2019-03-08 11:39:27,718 : INFO : worker thread finished; awaiting finish of 0 more threads\n",
      "2019-03-08 11:39:27,720 : INFO : EPOCH - 1 : training on 4 raw words (0 effective words) took 0.0s, 0 effective words/s\n",
      "2019-03-08 11:39:27,737 : INFO : worker thread finished; awaiting finish of 2 more threads\n",
      "2019-03-08 11:39:27,738 : INFO : worker thread finished; awaiting finish of 1 more threads\n",
      "2019-03-08 11:39:27,745 : INFO : worker thread finished; awaiting finish of 0 more threads\n",
      "2019-03-08 11:39:27,758 : INFO : EPOCH - 2 : training on 4 raw words (0 effective words) took 0.0s, 0 effective words/s\n",
      "2019-03-08 11:39:27,768 : INFO : worker thread finished; awaiting finish of 2 more threads\n",
      "2019-03-08 11:39:27,770 : INFO : worker thread finished; awaiting finish of 1 more threads\n",
      "2019-03-08 11:39:27,771 : INFO : worker thread finished; awaiting finish of 0 more threads\n",
      "2019-03-08 11:39:27,772 : INFO : EPOCH - 3 : training on 4 raw words (1 effective words) took 0.0s, 205 effective words/s\n",
      "2019-03-08 11:39:27,784 : INFO : worker thread finished; awaiting finish of 2 more threads\n",
      "2019-03-08 11:39:27,785 : INFO : worker thread finished; awaiting finish of 1 more threads\n",
      "2019-03-08 11:39:27,788 : INFO : worker thread finished; awaiting finish of 0 more threads\n",
      "2019-03-08 11:39:27,790 : INFO : EPOCH - 4 : training on 4 raw words (0 effective words) took 0.0s, 0 effective words/s\n",
      "2019-03-08 11:39:27,801 : INFO : worker thread finished; awaiting finish of 2 more threads\n",
      "2019-03-08 11:39:27,802 : INFO : worker thread finished; awaiting finish of 1 more threads\n",
      "2019-03-08 11:39:27,803 : INFO : worker thread finished; awaiting finish of 0 more threads\n",
      "2019-03-08 11:39:27,808 : INFO : EPOCH - 5 : training on 4 raw words (0 effective words) took 0.0s, 0 effective words/s\n",
      "2019-03-08 11:39:27,812 : INFO : training on a 20 raw words (1 effective words) took 0.1s, 10 effective words/s\n",
      "2019-03-08 11:39:27,813 : WARNING : under 10 jobs per worker: consider setting a smaller `batch_words' for smoother alpha decay\n"
     ]
    }
   ],
   "source": [
    "# import modules & set up logging\n",
    "import gensim, logging\n",
    "logging.basicConfig(format='%(asctime)s : %(levelname)s : %(message)s', level=logging.INFO)\n",
    " \n",
    "sentences = [['first', 'sentence'], ['second', 'sentence']]\n",
    "# train word2vec on the two sentences\n",
    "model = gensim.models.Word2Vec(sentences, min_count=1)"
   ]
  },
  {
   "cell_type": "code",
   "execution_count": null,
   "metadata": {},
   "outputs": [],
   "source": []
  }
 ],
 "metadata": {
  "kernelspec": {
   "display_name": "Python 3",
   "language": "python",
   "name": "python3"
  },
  "language_info": {
   "codemirror_mode": {
    "name": "ipython",
    "version": 3
   },
   "file_extension": ".py",
   "mimetype": "text/x-python",
   "name": "python",
   "nbconvert_exporter": "python",
   "pygments_lexer": "ipython3",
   "version": "3.7.1"
  }
 },
 "nbformat": 4,
 "nbformat_minor": 2
}
